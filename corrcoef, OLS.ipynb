{
 "cells": [
  {
   "cell_type": "code",
   "execution_count": 64,
   "id": "f6f59d8c",
   "metadata": {},
   "outputs": [],
   "source": [
    "import pandas as pd\n",
    "import numpy as np"
   ]
  },
  {
   "cell_type": "code",
   "execution_count": 152,
   "id": "0a166b8e",
   "metadata": {},
   "outputs": [],
   "source": [
    "data = pd.read_excel('C:\\\\Users\\\\lucylucky\\\\Desktop\\\\프로젝트 자료\\\\data\\\\data_total_2020.xlsx')"
   ]
  },
  {
   "cell_type": "code",
   "execution_count": 157,
   "id": "546c12ac",
   "metadata": {},
   "outputs": [],
   "source": [
    "data['범죄발생률(%)'] = data['범죄발생건수'] / data['인구 수(명)']*100"
   ]
  },
  {
   "cell_type": "code",
   "execution_count": 166,
   "id": "0d2d910b",
   "metadata": {
    "scrolled": false
   },
   "outputs": [
    {
     "data": {
      "text/html": [
       "<div>\n",
       "<style scoped>\n",
       "    .dataframe tbody tr th:only-of-type {\n",
       "        vertical-align: middle;\n",
       "    }\n",
       "\n",
       "    .dataframe tbody tr th {\n",
       "        vertical-align: top;\n",
       "    }\n",
       "\n",
       "    .dataframe thead th {\n",
       "        text-align: right;\n",
       "    }\n",
       "</style>\n",
       "<table border=\"1\" class=\"dataframe\">\n",
       "  <thead>\n",
       "    <tr style=\"text-align: right;\">\n",
       "      <th></th>\n",
       "      <th>기간</th>\n",
       "      <th>자치구</th>\n",
       "      <th>인구 수(명)</th>\n",
       "      <th>면적(㎢)</th>\n",
       "      <th>범죄발생건수</th>\n",
       "      <th>경찰관서 수</th>\n",
       "      <th>소방관서 수</th>\n",
       "      <th>카페 수</th>\n",
       "      <th>편의점 수</th>\n",
       "      <th>공원 수</th>\n",
       "      <th>버스정류장 수</th>\n",
       "      <th>가로등 수</th>\n",
       "      <th>ATM 수</th>\n",
       "      <th>반려동물 가구 비율(%, 인구 수)</th>\n",
       "      <th>행복지수 종합</th>\n",
       "      <th>범죄발생률(%)</th>\n",
       "      <th>intercept</th>\n",
       "    </tr>\n",
       "  </thead>\n",
       "  <tbody>\n",
       "    <tr>\n",
       "      <th>0</th>\n",
       "      <td>2020</td>\n",
       "      <td>강남구</td>\n",
       "      <td>544055</td>\n",
       "      <td>39.50</td>\n",
       "      <td>7356</td>\n",
       "      <td>23</td>\n",
       "      <td>7</td>\n",
       "      <td>3455</td>\n",
       "      <td>803</td>\n",
       "      <td>162</td>\n",
       "      <td>535</td>\n",
       "      <td>14326</td>\n",
       "      <td>787</td>\n",
       "      <td>21.4</td>\n",
       "      <td>6.73</td>\n",
       "      <td>1.352069</td>\n",
       "      <td>1</td>\n",
       "    </tr>\n",
       "    <tr>\n",
       "      <th>1</th>\n",
       "      <td>2020</td>\n",
       "      <td>강동구</td>\n",
       "      <td>463998</td>\n",
       "      <td>24.59</td>\n",
       "      <td>3788</td>\n",
       "      <td>17</td>\n",
       "      <td>7</td>\n",
       "      <td>1051</td>\n",
       "      <td>364</td>\n",
       "      <td>125</td>\n",
       "      <td>392</td>\n",
       "      <td>7952</td>\n",
       "      <td>331</td>\n",
       "      <td>19.2</td>\n",
       "      <td>6.48</td>\n",
       "      <td>0.816383</td>\n",
       "      <td>1</td>\n",
       "    </tr>\n",
       "    <tr>\n",
       "      <th>2</th>\n",
       "      <td>2020</td>\n",
       "      <td>강북구</td>\n",
       "      <td>311569</td>\n",
       "      <td>23.60</td>\n",
       "      <td>2770</td>\n",
       "      <td>15</td>\n",
       "      <td>5</td>\n",
       "      <td>681</td>\n",
       "      <td>266</td>\n",
       "      <td>84</td>\n",
       "      <td>416</td>\n",
       "      <td>4301</td>\n",
       "      <td>272</td>\n",
       "      <td>19.1</td>\n",
       "      <td>6.57</td>\n",
       "      <td>0.889049</td>\n",
       "      <td>1</td>\n",
       "    </tr>\n",
       "    <tr>\n",
       "      <th>3</th>\n",
       "      <td>2020</td>\n",
       "      <td>강서구</td>\n",
       "      <td>585901</td>\n",
       "      <td>41.44</td>\n",
       "      <td>4415</td>\n",
       "      <td>13</td>\n",
       "      <td>7</td>\n",
       "      <td>1399</td>\n",
       "      <td>518</td>\n",
       "      <td>175</td>\n",
       "      <td>600</td>\n",
       "      <td>9552</td>\n",
       "      <td>538</td>\n",
       "      <td>20.4</td>\n",
       "      <td>6.31</td>\n",
       "      <td>0.753540</td>\n",
       "      <td>1</td>\n",
       "    </tr>\n",
       "    <tr>\n",
       "      <th>4</th>\n",
       "      <td>2020</td>\n",
       "      <td>관악구</td>\n",
       "      <td>509803</td>\n",
       "      <td>29.57</td>\n",
       "      <td>5261</td>\n",
       "      <td>20</td>\n",
       "      <td>5</td>\n",
       "      <td>1105</td>\n",
       "      <td>430</td>\n",
       "      <td>113</td>\n",
       "      <td>466</td>\n",
       "      <td>5588</td>\n",
       "      <td>412</td>\n",
       "      <td>16.6</td>\n",
       "      <td>6.54</td>\n",
       "      <td>1.031967</td>\n",
       "      <td>1</td>\n",
       "    </tr>\n",
       "    <tr>\n",
       "      <th>5</th>\n",
       "      <td>2020</td>\n",
       "      <td>광진구</td>\n",
       "      <td>360109</td>\n",
       "      <td>17.06</td>\n",
       "      <td>3601</td>\n",
       "      <td>13</td>\n",
       "      <td>4</td>\n",
       "      <td>1103</td>\n",
       "      <td>338</td>\n",
       "      <td>63</td>\n",
       "      <td>280</td>\n",
       "      <td>4908</td>\n",
       "      <td>296</td>\n",
       "      <td>21.6</td>\n",
       "      <td>6.38</td>\n",
       "      <td>0.999975</td>\n",
       "      <td>1</td>\n",
       "    </tr>\n",
       "    <tr>\n",
       "      <th>6</th>\n",
       "      <td>2020</td>\n",
       "      <td>구로구</td>\n",
       "      <td>432488</td>\n",
       "      <td>20.12</td>\n",
       "      <td>4175</td>\n",
       "      <td>18</td>\n",
       "      <td>7</td>\n",
       "      <td>820</td>\n",
       "      <td>357</td>\n",
       "      <td>108</td>\n",
       "      <td>503</td>\n",
       "      <td>8199</td>\n",
       "      <td>372</td>\n",
       "      <td>19.5</td>\n",
       "      <td>6.44</td>\n",
       "      <td>0.965345</td>\n",
       "      <td>1</td>\n",
       "    </tr>\n",
       "    <tr>\n",
       "      <th>7</th>\n",
       "      <td>2020</td>\n",
       "      <td>금천구</td>\n",
       "      <td>247835</td>\n",
       "      <td>13.02</td>\n",
       "      <td>2598</td>\n",
       "      <td>13</td>\n",
       "      <td>2</td>\n",
       "      <td>645</td>\n",
       "      <td>291</td>\n",
       "      <td>55</td>\n",
       "      <td>359</td>\n",
       "      <td>5507</td>\n",
       "      <td>323</td>\n",
       "      <td>17.9</td>\n",
       "      <td>6.28</td>\n",
       "      <td>1.048278</td>\n",
       "      <td>1</td>\n",
       "    </tr>\n",
       "    <tr>\n",
       "      <th>8</th>\n",
       "      <td>2020</td>\n",
       "      <td>노원구</td>\n",
       "      <td>527032</td>\n",
       "      <td>35.44</td>\n",
       "      <td>3743</td>\n",
       "      <td>17</td>\n",
       "      <td>6</td>\n",
       "      <td>971</td>\n",
       "      <td>342</td>\n",
       "      <td>188</td>\n",
       "      <td>539</td>\n",
       "      <td>9443</td>\n",
       "      <td>336</td>\n",
       "      <td>23.8</td>\n",
       "      <td>6.69</td>\n",
       "      <td>0.710204</td>\n",
       "      <td>1</td>\n",
       "    </tr>\n",
       "    <tr>\n",
       "      <th>9</th>\n",
       "      <td>2020</td>\n",
       "      <td>도봉구</td>\n",
       "      <td>327361</td>\n",
       "      <td>20.65</td>\n",
       "      <td>2179</td>\n",
       "      <td>10</td>\n",
       "      <td>5</td>\n",
       "      <td>504</td>\n",
       "      <td>237</td>\n",
       "      <td>80</td>\n",
       "      <td>368</td>\n",
       "      <td>4584</td>\n",
       "      <td>228</td>\n",
       "      <td>20.3</td>\n",
       "      <td>6.48</td>\n",
       "      <td>0.665626</td>\n",
       "      <td>1</td>\n",
       "    </tr>\n",
       "    <tr>\n",
       "      <th>10</th>\n",
       "      <td>2020</td>\n",
       "      <td>동대문구</td>\n",
       "      <td>357014</td>\n",
       "      <td>14.22</td>\n",
       "      <td>3401</td>\n",
       "      <td>21</td>\n",
       "      <td>6</td>\n",
       "      <td>932</td>\n",
       "      <td>362</td>\n",
       "      <td>96</td>\n",
       "      <td>313</td>\n",
       "      <td>8342</td>\n",
       "      <td>378</td>\n",
       "      <td>15.8</td>\n",
       "      <td>6.44</td>\n",
       "      <td>0.952624</td>\n",
       "      <td>1</td>\n",
       "    </tr>\n",
       "    <tr>\n",
       "      <th>11</th>\n",
       "      <td>2020</td>\n",
       "      <td>동작구</td>\n",
       "      <td>401572</td>\n",
       "      <td>16.35</td>\n",
       "      <td>3200</td>\n",
       "      <td>18</td>\n",
       "      <td>5</td>\n",
       "      <td>909</td>\n",
       "      <td>300</td>\n",
       "      <td>86</td>\n",
       "      <td>436</td>\n",
       "      <td>6105</td>\n",
       "      <td>263</td>\n",
       "      <td>21.1</td>\n",
       "      <td>6.53</td>\n",
       "      <td>0.796868</td>\n",
       "      <td>1</td>\n",
       "    </tr>\n",
       "    <tr>\n",
       "      <th>12</th>\n",
       "      <td>2020</td>\n",
       "      <td>마포구</td>\n",
       "      <td>381858</td>\n",
       "      <td>23.85</td>\n",
       "      <td>3688</td>\n",
       "      <td>16</td>\n",
       "      <td>7</td>\n",
       "      <td>2997</td>\n",
       "      <td>491</td>\n",
       "      <td>143</td>\n",
       "      <td>562</td>\n",
       "      <td>8392</td>\n",
       "      <td>403</td>\n",
       "      <td>21.6</td>\n",
       "      <td>6.56</td>\n",
       "      <td>0.965804</td>\n",
       "      <td>1</td>\n",
       "    </tr>\n",
       "    <tr>\n",
       "      <th>13</th>\n",
       "      <td>2020</td>\n",
       "      <td>서대문구</td>\n",
       "      <td>322952</td>\n",
       "      <td>17.63</td>\n",
       "      <td>2533</td>\n",
       "      <td>12</td>\n",
       "      <td>5</td>\n",
       "      <td>1101</td>\n",
       "      <td>306</td>\n",
       "      <td>123</td>\n",
       "      <td>460</td>\n",
       "      <td>6245</td>\n",
       "      <td>313</td>\n",
       "      <td>19.8</td>\n",
       "      <td>6.47</td>\n",
       "      <td>0.784327</td>\n",
       "      <td>1</td>\n",
       "    </tr>\n",
       "    <tr>\n",
       "      <th>14</th>\n",
       "      <td>2020</td>\n",
       "      <td>서초구</td>\n",
       "      <td>429025</td>\n",
       "      <td>46.98</td>\n",
       "      <td>4601</td>\n",
       "      <td>21</td>\n",
       "      <td>7</td>\n",
       "      <td>1874</td>\n",
       "      <td>443</td>\n",
       "      <td>181</td>\n",
       "      <td>631</td>\n",
       "      <td>12588</td>\n",
       "      <td>444</td>\n",
       "      <td>21.6</td>\n",
       "      <td>6.73</td>\n",
       "      <td>1.072432</td>\n",
       "      <td>1</td>\n",
       "    </tr>\n",
       "    <tr>\n",
       "      <th>15</th>\n",
       "      <td>2020</td>\n",
       "      <td>성동구</td>\n",
       "      <td>300505</td>\n",
       "      <td>16.86</td>\n",
       "      <td>2362</td>\n",
       "      <td>16</td>\n",
       "      <td>5</td>\n",
       "      <td>1118</td>\n",
       "      <td>291</td>\n",
       "      <td>87</td>\n",
       "      <td>443</td>\n",
       "      <td>6266</td>\n",
       "      <td>273</td>\n",
       "      <td>19.1</td>\n",
       "      <td>6.38</td>\n",
       "      <td>0.786010</td>\n",
       "      <td>1</td>\n",
       "    </tr>\n",
       "    <tr>\n",
       "      <th>16</th>\n",
       "      <td>2020</td>\n",
       "      <td>성북구</td>\n",
       "      <td>447056</td>\n",
       "      <td>24.58</td>\n",
       "      <td>2567</td>\n",
       "      <td>26</td>\n",
       "      <td>5</td>\n",
       "      <td>1057</td>\n",
       "      <td>334</td>\n",
       "      <td>135</td>\n",
       "      <td>597</td>\n",
       "      <td>5744</td>\n",
       "      <td>340</td>\n",
       "      <td>17.3</td>\n",
       "      <td>6.65</td>\n",
       "      <td>0.574201</td>\n",
       "      <td>1</td>\n",
       "    </tr>\n",
       "    <tr>\n",
       "      <th>17</th>\n",
       "      <td>2020</td>\n",
       "      <td>송파구</td>\n",
       "      <td>673926</td>\n",
       "      <td>33.87</td>\n",
       "      <td>5410</td>\n",
       "      <td>22</td>\n",
       "      <td>7</td>\n",
       "      <td>1914</td>\n",
       "      <td>550</td>\n",
       "      <td>173</td>\n",
       "      <td>434</td>\n",
       "      <td>14184</td>\n",
       "      <td>547</td>\n",
       "      <td>21.6</td>\n",
       "      <td>6.71</td>\n",
       "      <td>0.802759</td>\n",
       "      <td>1</td>\n",
       "    </tr>\n",
       "    <tr>\n",
       "      <th>18</th>\n",
       "      <td>2020</td>\n",
       "      <td>양천구</td>\n",
       "      <td>457781</td>\n",
       "      <td>17.41</td>\n",
       "      <td>3216</td>\n",
       "      <td>16</td>\n",
       "      <td>6</td>\n",
       "      <td>825</td>\n",
       "      <td>284</td>\n",
       "      <td>123</td>\n",
       "      <td>322</td>\n",
       "      <td>8583</td>\n",
       "      <td>293</td>\n",
       "      <td>21.1</td>\n",
       "      <td>6.63</td>\n",
       "      <td>0.702519</td>\n",
       "      <td>1</td>\n",
       "    </tr>\n",
       "    <tr>\n",
       "      <th>19</th>\n",
       "      <td>2020</td>\n",
       "      <td>영등포구</td>\n",
       "      <td>407367</td>\n",
       "      <td>24.55</td>\n",
       "      <td>5217</td>\n",
       "      <td>16</td>\n",
       "      <td>6</td>\n",
       "      <td>1489</td>\n",
       "      <td>468</td>\n",
       "      <td>109</td>\n",
       "      <td>485</td>\n",
       "      <td>9535</td>\n",
       "      <td>460</td>\n",
       "      <td>22.0</td>\n",
       "      <td>6.76</td>\n",
       "      <td>1.280663</td>\n",
       "      <td>1</td>\n",
       "    </tr>\n",
       "    <tr>\n",
       "      <th>20</th>\n",
       "      <td>2020</td>\n",
       "      <td>용산구</td>\n",
       "      <td>244645</td>\n",
       "      <td>21.87</td>\n",
       "      <td>2969</td>\n",
       "      <td>13</td>\n",
       "      <td>6</td>\n",
       "      <td>1186</td>\n",
       "      <td>254</td>\n",
       "      <td>108</td>\n",
       "      <td>329</td>\n",
       "      <td>7838</td>\n",
       "      <td>269</td>\n",
       "      <td>21.7</td>\n",
       "      <td>6.30</td>\n",
       "      <td>1.213595</td>\n",
       "      <td>1</td>\n",
       "    </tr>\n",
       "    <tr>\n",
       "      <th>21</th>\n",
       "      <td>2020</td>\n",
       "      <td>은평구</td>\n",
       "      <td>484043</td>\n",
       "      <td>29.71</td>\n",
       "      <td>3390</td>\n",
       "      <td>22</td>\n",
       "      <td>5</td>\n",
       "      <td>866</td>\n",
       "      <td>355</td>\n",
       "      <td>139</td>\n",
       "      <td>499</td>\n",
       "      <td>6173</td>\n",
       "      <td>387</td>\n",
       "      <td>18.5</td>\n",
       "      <td>6.52</td>\n",
       "      <td>0.700351</td>\n",
       "      <td>1</td>\n",
       "    </tr>\n",
       "    <tr>\n",
       "      <th>22</th>\n",
       "      <td>2020</td>\n",
       "      <td>종로구</td>\n",
       "      <td>158996</td>\n",
       "      <td>23.91</td>\n",
       "      <td>3102</td>\n",
       "      <td>25</td>\n",
       "      <td>7</td>\n",
       "      <td>1991</td>\n",
       "      <td>298</td>\n",
       "      <td>105</td>\n",
       "      <td>371</td>\n",
       "      <td>8818</td>\n",
       "      <td>320</td>\n",
       "      <td>18.7</td>\n",
       "      <td>6.46</td>\n",
       "      <td>1.950992</td>\n",
       "      <td>1</td>\n",
       "    </tr>\n",
       "    <tr>\n",
       "      <th>23</th>\n",
       "      <td>2020</td>\n",
       "      <td>중구</td>\n",
       "      <td>134635</td>\n",
       "      <td>9.96</td>\n",
       "      <td>3411</td>\n",
       "      <td>20</td>\n",
       "      <td>7</td>\n",
       "      <td>1499</td>\n",
       "      <td>346</td>\n",
       "      <td>75</td>\n",
       "      <td>199</td>\n",
       "      <td>8550</td>\n",
       "      <td>413</td>\n",
       "      <td>19.1</td>\n",
       "      <td>6.44</td>\n",
       "      <td>2.533517</td>\n",
       "      <td>1</td>\n",
       "    </tr>\n",
       "    <tr>\n",
       "      <th>24</th>\n",
       "      <td>2020</td>\n",
       "      <td>중랑구</td>\n",
       "      <td>399562</td>\n",
       "      <td>18.50</td>\n",
       "      <td>3726</td>\n",
       "      <td>18</td>\n",
       "      <td>5</td>\n",
       "      <td>680</td>\n",
       "      <td>299</td>\n",
       "      <td>102</td>\n",
       "      <td>382</td>\n",
       "      <td>6521</td>\n",
       "      <td>297</td>\n",
       "      <td>19.2</td>\n",
       "      <td>6.55</td>\n",
       "      <td>0.932521</td>\n",
       "      <td>1</td>\n",
       "    </tr>\n",
       "  </tbody>\n",
       "</table>\n",
       "</div>"
      ],
      "text/plain": [
       "      기간   자치구  인구 수(명)  면적(㎢)  범죄발생건수  경찰관서 수  소방관서 수  카페 수  편의점 수  공원 수  \\\n",
       "0   2020   강남구   544055  39.50    7356      23       7  3455    803   162   \n",
       "1   2020   강동구   463998  24.59    3788      17       7  1051    364   125   \n",
       "2   2020   강북구   311569  23.60    2770      15       5   681    266    84   \n",
       "3   2020   강서구   585901  41.44    4415      13       7  1399    518   175   \n",
       "4   2020   관악구   509803  29.57    5261      20       5  1105    430   113   \n",
       "5   2020   광진구   360109  17.06    3601      13       4  1103    338    63   \n",
       "6   2020   구로구   432488  20.12    4175      18       7   820    357   108   \n",
       "7   2020   금천구   247835  13.02    2598      13       2   645    291    55   \n",
       "8   2020   노원구   527032  35.44    3743      17       6   971    342   188   \n",
       "9   2020   도봉구   327361  20.65    2179      10       5   504    237    80   \n",
       "10  2020  동대문구   357014  14.22    3401      21       6   932    362    96   \n",
       "11  2020   동작구   401572  16.35    3200      18       5   909    300    86   \n",
       "12  2020   마포구   381858  23.85    3688      16       7  2997    491   143   \n",
       "13  2020  서대문구   322952  17.63    2533      12       5  1101    306   123   \n",
       "14  2020   서초구   429025  46.98    4601      21       7  1874    443   181   \n",
       "15  2020   성동구   300505  16.86    2362      16       5  1118    291    87   \n",
       "16  2020   성북구   447056  24.58    2567      26       5  1057    334   135   \n",
       "17  2020   송파구   673926  33.87    5410      22       7  1914    550   173   \n",
       "18  2020   양천구   457781  17.41    3216      16       6   825    284   123   \n",
       "19  2020  영등포구   407367  24.55    5217      16       6  1489    468   109   \n",
       "20  2020   용산구   244645  21.87    2969      13       6  1186    254   108   \n",
       "21  2020   은평구   484043  29.71    3390      22       5   866    355   139   \n",
       "22  2020   종로구   158996  23.91    3102      25       7  1991    298   105   \n",
       "23  2020    중구   134635   9.96    3411      20       7  1499    346    75   \n",
       "24  2020   중랑구   399562  18.50    3726      18       5   680    299   102   \n",
       "\n",
       "    버스정류장 수  가로등 수  ATM 수  반려동물 가구 비율(%, 인구 수)  행복지수 종합  범죄발생률(%)  intercept  \n",
       "0       535  14326    787                 21.4     6.73  1.352069          1  \n",
       "1       392   7952    331                 19.2     6.48  0.816383          1  \n",
       "2       416   4301    272                 19.1     6.57  0.889049          1  \n",
       "3       600   9552    538                 20.4     6.31  0.753540          1  \n",
       "4       466   5588    412                 16.6     6.54  1.031967          1  \n",
       "5       280   4908    296                 21.6     6.38  0.999975          1  \n",
       "6       503   8199    372                 19.5     6.44  0.965345          1  \n",
       "7       359   5507    323                 17.9     6.28  1.048278          1  \n",
       "8       539   9443    336                 23.8     6.69  0.710204          1  \n",
       "9       368   4584    228                 20.3     6.48  0.665626          1  \n",
       "10      313   8342    378                 15.8     6.44  0.952624          1  \n",
       "11      436   6105    263                 21.1     6.53  0.796868          1  \n",
       "12      562   8392    403                 21.6     6.56  0.965804          1  \n",
       "13      460   6245    313                 19.8     6.47  0.784327          1  \n",
       "14      631  12588    444                 21.6     6.73  1.072432          1  \n",
       "15      443   6266    273                 19.1     6.38  0.786010          1  \n",
       "16      597   5744    340                 17.3     6.65  0.574201          1  \n",
       "17      434  14184    547                 21.6     6.71  0.802759          1  \n",
       "18      322   8583    293                 21.1     6.63  0.702519          1  \n",
       "19      485   9535    460                 22.0     6.76  1.280663          1  \n",
       "20      329   7838    269                 21.7     6.30  1.213595          1  \n",
       "21      499   6173    387                 18.5     6.52  0.700351          1  \n",
       "22      371   8818    320                 18.7     6.46  1.950992          1  \n",
       "23      199   8550    413                 19.1     6.44  2.533517          1  \n",
       "24      382   6521    297                 19.2     6.55  0.932521          1  "
      ]
     },
     "execution_count": 166,
     "metadata": {},
     "output_type": "execute_result"
    }
   ],
   "source": [
    "data"
   ]
  },
  {
   "cell_type": "code",
   "execution_count": 84,
   "id": "70cd64e3",
   "metadata": {},
   "outputs": [],
   "source": [
    "# 자치구열을 인덱스로 지정\n",
    "data.set_index('자치구', inplace=True)"
   ]
  },
  {
   "cell_type": "markdown",
   "id": "c9c83de6",
   "metadata": {},
   "source": [
    "### 각 변수와 종속변수 상관계수 확인"
   ]
  },
  {
   "cell_type": "code",
   "execution_count": 66,
   "id": "713dec2f",
   "metadata": {},
   "outputs": [
    {
     "data": {
      "text/plain": [
       "array([[1.        , 0.36999394],\n",
       "       [0.36999394, 1.        ]])"
      ]
     },
     "execution_count": 66,
     "metadata": {},
     "output_type": "execute_result"
    }
   ],
   "source": [
    "np.corrcoef(data['경찰관서 수'],data['범죄발생건수'])"
   ]
  },
  {
   "cell_type": "code",
   "execution_count": 67,
   "id": "30ee0716",
   "metadata": {},
   "outputs": [
    {
     "data": {
      "text/plain": [
       "array([[1.        , 0.47760735],\n",
       "       [0.47760735, 1.        ]])"
      ]
     },
     "execution_count": 67,
     "metadata": {},
     "output_type": "execute_result"
    }
   ],
   "source": [
    "np.corrcoef(data['소방관서 수'],data['범죄발생건수'])"
   ]
  },
  {
   "cell_type": "code",
   "execution_count": 68,
   "id": "ba216b76",
   "metadata": {},
   "outputs": [
    {
     "data": {
      "text/plain": [
       "array([[1.        , 0.64215722],\n",
       "       [0.64215722, 1.        ]])"
      ]
     },
     "execution_count": 68,
     "metadata": {},
     "output_type": "execute_result"
    }
   ],
   "source": [
    "np.corrcoef(data['범죄발생건수'],data['카페 수'])"
   ]
  },
  {
   "cell_type": "code",
   "execution_count": 69,
   "id": "180e9a3b",
   "metadata": {},
   "outputs": [
    {
     "data": {
      "text/plain": [
       "array([[1.        , 0.90483827],\n",
       "       [0.90483827, 1.        ]])"
      ]
     },
     "execution_count": 69,
     "metadata": {},
     "output_type": "execute_result"
    }
   ],
   "source": [
    "np.corrcoef(data['범죄발생건수'],data['편의점 수'])"
   ]
  },
  {
   "cell_type": "code",
   "execution_count": 70,
   "id": "11782174",
   "metadata": {},
   "outputs": [
    {
     "data": {
      "text/plain": [
       "array([[1.        , 0.34941251],\n",
       "       [0.34941251, 1.        ]])"
      ]
     },
     "execution_count": 70,
     "metadata": {},
     "output_type": "execute_result"
    }
   ],
   "source": [
    "np.corrcoef(data['범죄발생건수'],data['버스정류장 수'])"
   ]
  },
  {
   "cell_type": "code",
   "execution_count": 71,
   "id": "ce198c61",
   "metadata": {},
   "outputs": [
    {
     "data": {
      "text/plain": [
       "array([[1.        , 0.74739402],\n",
       "       [0.74739402, 1.        ]])"
      ]
     },
     "execution_count": 71,
     "metadata": {},
     "output_type": "execute_result"
    }
   ],
   "source": [
    "np.corrcoef(data['범죄발생건수'],data['가로등 수'])"
   ]
  },
  {
   "cell_type": "code",
   "execution_count": 72,
   "id": "869c2611",
   "metadata": {},
   "outputs": [
    {
     "data": {
      "text/plain": [
       "array([[1.        , 0.88743501],\n",
       "       [0.88743501, 1.        ]])"
      ]
     },
     "execution_count": 72,
     "metadata": {},
     "output_type": "execute_result"
    }
   ],
   "source": [
    "np.corrcoef(data['범죄발생건수'],data['ATM 수'])"
   ]
  },
  {
   "cell_type": "code",
   "execution_count": 159,
   "id": "85470c04",
   "metadata": {},
   "outputs": [
    {
     "data": {
      "text/plain": [
       "array([[ 1.        , -0.05930357],\n",
       "       [-0.05930357,  1.        ]])"
      ]
     },
     "execution_count": 159,
     "metadata": {},
     "output_type": "execute_result"
    }
   ],
   "source": [
    "np.corrcoef(data['범죄발생률(%)'],data['반려동물 가구 비율(%, 인구 수)'])"
   ]
  },
  {
   "cell_type": "code",
   "execution_count": 74,
   "id": "672a241b",
   "metadata": {},
   "outputs": [
    {
     "data": {
      "text/plain": [
       "array([[1.        , 0.52883413],\n",
       "       [0.52883413, 1.        ]])"
      ]
     },
     "execution_count": 74,
     "metadata": {},
     "output_type": "execute_result"
    }
   ],
   "source": [
    "np.corrcoef(data['범죄발생건수'],data['행복지수 종합'])"
   ]
  },
  {
   "cell_type": "code",
   "execution_count": 125,
   "id": "e5986713",
   "metadata": {},
   "outputs": [],
   "source": [
    "import matplotlib.pyplot as plt\n",
    "import platform\n",
    "from matplotlib import font_manager, rc\n",
    "import seaborn as sns\n",
    "from statsmodels.formula.api import ols"
   ]
  },
  {
   "cell_type": "code",
   "execution_count": 76,
   "id": "7f364b20",
   "metadata": {},
   "outputs": [],
   "source": [
    "plt.rcParams['axes.unicode_minus']=False"
   ]
  },
  {
   "cell_type": "code",
   "execution_count": 77,
   "id": "4748b59e",
   "metadata": {},
   "outputs": [],
   "source": [
    "path = \"c:/Windows/Fonts/malgun.ttf\"\n",
    "font_name = font_manager.FontProperties(fname=path).get_name()\n",
    "rc('font', family=font_name)"
   ]
  },
  {
   "cell_type": "code",
   "execution_count": 124,
   "id": "d485ce1b",
   "metadata": {
    "scrolled": true
   },
   "outputs": [
    {
     "data": {
      "image/png": "[encoded data removed]",
      "text/plain": [
       "<Figure size 720x432 with 1 Axes>"
      ]
     },
     "metadata": {
      "needs_background": "light"
     },
     "output_type": "display_data"
    }
   ],
   "source": [
    "# 산점도로 상관과계 확인\n",
    "plt.figure(figsize=(10,6))\n",
    "plt.scatter(data['경찰관서 수'],data['범죄발생건수'],s=50)\n",
    "plt.plot(fx, f1(fx), ls='--', color='g') # 회귀선(추세선)의 시작지점과 끝을 지정\n",
    "plt.title('경찰관서수 대비 범죄발생건수')\n",
    "plt.xlabel('경찰관서 수')\n",
    "plt.ylabel('범죄발생건수')\n",
    "\n",
    "plt.grid()\n",
    "plt.show()"
   ]
  },
  {
   "cell_type": "code",
   "execution_count": 120,
   "id": "f2af5a05",
   "metadata": {},
   "outputs": [],
   "source": [
    "fp1 = np.polyfit(data['경찰관서 수'],data['범죄발생건수'], 1)\n",
    "f1 = np.poly1d(fp1)\n",
    "fx = np.linspace(10, 27,100)\n",
    "\n",
    "data['오차'] = np.abs(data['범죄발생건수'] - f1(data['경찰관서 수']))\n",
    "                    \n",
    "df_sort = data.sort_values(by='오차', ascending = False)"
   ]
  },
  {
   "cell_type": "code",
   "execution_count": 100,
   "id": "56c48572",
   "metadata": {
    "scrolled": true
   },
   "outputs": [
    {
     "data": {
      "image/png": "[encoded data removed]",
      "text/plain": [
       "<Figure size 1440x720 with 2 Axes>"
      ]
     },
     "metadata": {
      "needs_background": "light"
     },
     "output_type": "display_data"
    }
   ],
   "source": [
    "plt.figure(figsize=(20,10))\n",
    "plt.scatter(data['경찰관서 수'],data['범죄발생건수'],c = data['오차'], s=50)\n",
    "plt.plot(fx, f1(fx), ls='--', lw=3, color='r')\n",
    "\n",
    "for n in range(25):\n",
    "    plt.text(df_sort['경찰관서 수'][n], df_sort['범죄발생건수'][n], df_sort.index[n], fontsize=12)\n",
    "\n",
    "plt.xlabel('경찰관서 수')\n",
    "plt.ylabel('경찰관서 수 당 범죄발생건수')\n",
    "\n",
    "plt.colorbar()\n",
    "plt.grid()\n",
    "plt.show()"
   ]
  },
  {
   "cell_type": "code",
   "execution_count": 103,
   "id": "01646c2a",
   "metadata": {
    "scrolled": false
   },
   "outputs": [
    {
     "data": {
      "image/png": "[encoded data removed]",
      "text/plain": [
       "<Figure size 1080x720 with 1 Axes>"
      ]
     },
     "metadata": {
      "needs_background": "light"
     },
     "output_type": "display_data"
    }
   ],
   "source": [
    "plt.figure(figsize=(15,10))\n",
    "plt.scatter(data['범죄발생건수'],data['경찰관서 수'],s=50)\n",
    "plt.title('범죄발생건수 대비 경찰관서수')\n",
    "\n",
    "for n in range(25):\n",
    "    plt.text(data['범죄발생건수'][n], data['경찰관서 수'][n], data.index[n], fontsize=12)\n",
    "\n",
    "plt.xlabel('범죄발생건수')\n",
    "plt.ylabel('경찰관서 수')\n",
    "\n",
    "plt.grid()\n",
    "plt.show()"
   ]
  },
  {
   "cell_type": "code",
   "execution_count": 161,
   "id": "77976804",
   "metadata": {},
   "outputs": [
    {
     "data": {
      "image/png": "[encoded data removed]",
      "text/plain": [
       "<Figure size 720x432 with 1 Axes>"
      ]
     },
     "metadata": {
      "needs_background": "light"
     },
     "output_type": "display_data"
    }
   ],
   "source": [
    "plt.figure(figsize=(10,6))\n",
    "plt.scatter(data['반려동물 가구 비율(%, 인구 수)'],data['범죄발생률(%)'],s=50)\n",
    "plt.title('반겨동물 가구 비율 대비 범죄발생률')\n",
    "plt.xlabel('반겨동물 가구 비율')\n",
    "plt.ylabel('범죄발생률')\n",
    "\n",
    "plt.grid()\n",
    "plt.show()"
   ]
  },
  {
   "cell_type": "code",
   "execution_count": 162,
   "id": "13dff995",
   "metadata": {},
   "outputs": [
    {
     "data": {
      "text/html": [
       "<table class=\"simpletable\">\n",
       "<caption>OLS Regression Results</caption>\n",
       "<tr>\n",
       "  <th>Dep. Variable:</th>        <td>범죄발생률(%)</td>     <th>  R-squared:         </th> <td>   0.004</td>\n",
       "</tr>\n",
       "<tr>\n",
       "  <th>Model:</th>                   <td>OLS</td>       <th>  Adj. R-squared:    </th> <td>  -0.040</td>\n",
       "</tr>\n",
       "<tr>\n",
       "  <th>Method:</th>             <td>Least Squares</td>  <th>  F-statistic:       </th> <td> 0.08117</td>\n",
       "</tr>\n",
       "<tr>\n",
       "  <th>Date:</th>             <td>Fri, 25 Feb 2022</td> <th>  Prob (F-statistic):</th>  <td> 0.778</td> \n",
       "</tr>\n",
       "<tr>\n",
       "  <th>Time:</th>                 <td>14:36:33</td>     <th>  Log-Likelihood:    </th> <td> -13.581</td>\n",
       "</tr>\n",
       "<tr>\n",
       "  <th>No. Observations:</th>      <td>    25</td>      <th>  AIC:               </th> <td>   31.16</td>\n",
       "</tr>\n",
       "<tr>\n",
       "  <th>Df Residuals:</th>          <td>    23</td>      <th>  BIC:               </th> <td>   33.60</td>\n",
       "</tr>\n",
       "<tr>\n",
       "  <th>Df Model:</th>              <td>     1</td>      <th>                     </th>     <td> </td>   \n",
       "</tr>\n",
       "<tr>\n",
       "  <th>Covariance Type:</th>      <td>nonrobust</td>    <th>                     </th>     <td> </td>   \n",
       "</tr>\n",
       "</table>\n",
       "<table class=\"simpletable\">\n",
       "<tr>\n",
       "           <td></td>              <th>coef</th>     <th>std err</th>      <th>t</th>      <th>P>|t|</th>  <th>[0.025</th>    <th>0.975]</th>  \n",
       "</tr>\n",
       "<tr>\n",
       "  <th>intercept</th>           <td>    1.2788</td> <td>    0.943</td> <td>    1.356</td> <td> 0.188</td> <td>   -0.672</td> <td>    3.230</td>\n",
       "</tr>\n",
       "<tr>\n",
       "  <th>반려동물 가구 비율(%, 인구 수)</th> <td>   -0.0134</td> <td>    0.047</td> <td>   -0.285</td> <td> 0.778</td> <td>   -0.111</td> <td>    0.084</td>\n",
       "</tr>\n",
       "</table>\n",
       "<table class=\"simpletable\">\n",
       "<tr>\n",
       "  <th>Omnibus:</th>       <td>27.186</td> <th>  Durbin-Watson:     </th> <td>   1.405</td>\n",
       "</tr>\n",
       "<tr>\n",
       "  <th>Prob(Omnibus):</th> <td> 0.000</td> <th>  Jarque-Bera (JB):  </th> <td>  47.482</td>\n",
       "</tr>\n",
       "<tr>\n",
       "  <th>Skew:</th>          <td> 2.232</td> <th>  Prob(JB):          </th> <td>4.89e-11</td>\n",
       "</tr>\n",
       "<tr>\n",
       "  <th>Kurtosis:</th>      <td> 8.065</td> <th>  Cond. No.          </th> <td>    218.</td>\n",
       "</tr>\n",
       "</table><br/><br/>Notes:<br/>[1] Standard Errors assume that the covariance matrix of the errors is correctly specified."
      ],
      "text/plain": [
       "<class 'statsmodels.iolib.summary.Summary'>\n",
       "\"\"\"\n",
       "                            OLS Regression Results                            \n",
       "==============================================================================\n",
       "Dep. Variable:               범죄발생률(%)   R-squared:                       0.004\n",
       "Model:                            OLS   Adj. R-squared:                 -0.040\n",
       "Method:                 Least Squares   F-statistic:                   0.08117\n",
       "Date:                Fri, 25 Feb 2022   Prob (F-statistic):              0.778\n",
       "Time:                        14:36:33   Log-Likelihood:                -13.581\n",
       "No. Observations:                  25   AIC:                             31.16\n",
       "Df Residuals:                      23   BIC:                             33.60\n",
       "Df Model:                           1                                         \n",
       "Covariance Type:            nonrobust                                         \n",
       "=======================================================================================\n",
       "                          coef    std err          t      P>|t|      [0.025      0.975]\n",
       "---------------------------------------------------------------------------------------\n",
       "intercept               1.2788      0.943      1.356      0.188      -0.672       3.230\n",
       "반려동물 가구 비율(%, 인구 수)    -0.0134      0.047     -0.285      0.778      -0.111       0.084\n",
       "==============================================================================\n",
       "Omnibus:                       27.186   Durbin-Watson:                   1.405\n",
       "Prob(Omnibus):                  0.000   Jarque-Bera (JB):               47.482\n",
       "Skew:                           2.232   Prob(JB):                     4.89e-11\n",
       "Kurtosis:                       8.065   Cond. No.                         218.\n",
       "==============================================================================\n",
       "\n",
       "Notes:\n",
       "[1] Standard Errors assume that the covariance matrix of the errors is correctly specified.\n",
       "\"\"\""
      ]
     },
     "execution_count": 162,
     "metadata": {},
     "output_type": "execute_result"
    }
   ],
   "source": [
    "data['intercept'] = 1\n",
    "\n",
    "lm = sm.OLS(data['범죄발생률(%)'], data[['intercept', '반려동물 가구 비율(%, 인구 수)']])\n",
    "results = lm.fit()\n",
    "results.summary()"
   ]
  },
  {
   "cell_type": "code",
   "execution_count": 137,
   "id": "8304907d",
   "metadata": {},
   "outputs": [],
   "source": [
    "import statsmodels.api as sm\n",
    "import statsmodels.formula.api as smf"
   ]
  },
  {
   "cell_type": "code",
   "execution_count": 138,
   "id": "bea71f00",
   "metadata": {},
   "outputs": [
    {
     "data": {
      "text/html": [
       "<table class=\"simpletable\">\n",
       "<caption>OLS Regression Results</caption>\n",
       "<tr>\n",
       "  <th>Dep. Variable:</th>         <td>범죄발생건수</td>      <th>  R-squared:         </th> <td>   0.137</td>\n",
       "</tr>\n",
       "<tr>\n",
       "  <th>Model:</th>                   <td>OLS</td>       <th>  Adj. R-squared:    </th> <td>   0.099</td>\n",
       "</tr>\n",
       "<tr>\n",
       "  <th>Method:</th>             <td>Least Squares</td>  <th>  F-statistic:       </th> <td>   3.648</td>\n",
       "</tr>\n",
       "<tr>\n",
       "  <th>Date:</th>             <td>Fri, 25 Feb 2022</td> <th>  Prob (F-statistic):</th>  <td>0.0687</td> \n",
       "</tr>\n",
       "<tr>\n",
       "  <th>Time:</th>                 <td>13:50:50</td>     <th>  Log-Likelihood:    </th> <td> -209.82</td>\n",
       "</tr>\n",
       "<tr>\n",
       "  <th>No. Observations:</th>      <td>    25</td>      <th>  AIC:               </th> <td>   423.6</td>\n",
       "</tr>\n",
       "<tr>\n",
       "  <th>Df Residuals:</th>          <td>    23</td>      <th>  BIC:               </th> <td>   426.1</td>\n",
       "</tr>\n",
       "<tr>\n",
       "  <th>Df Model:</th>              <td>     1</td>      <th>                     </th>     <td> </td>   \n",
       "</tr>\n",
       "<tr>\n",
       "  <th>Covariance Type:</th>      <td>nonrobust</td>    <th>                     </th>     <td> </td>   \n",
       "</tr>\n",
       "</table>\n",
       "<table class=\"simpletable\">\n",
       "<tr>\n",
       "      <td></td>         <th>coef</th>     <th>std err</th>      <th>t</th>      <th>P>|t|</th>  <th>[0.025</th>    <th>0.975]</th>  \n",
       "</tr>\n",
       "<tr>\n",
       "  <th>intercept</th> <td> 1875.2307</td> <td>  984.677</td> <td>    1.904</td> <td> 0.069</td> <td> -161.729</td> <td> 3912.190</td>\n",
       "</tr>\n",
       "<tr>\n",
       "  <th>경찰관서 수</th>    <td>  103.8509</td> <td>   54.373</td> <td>    1.910</td> <td> 0.069</td> <td>   -8.628</td> <td>  216.330</td>\n",
       "</tr>\n",
       "</table>\n",
       "<table class=\"simpletable\">\n",
       "<tr>\n",
       "  <th>Omnibus:</th>       <td> 6.096</td> <th>  Durbin-Watson:     </th> <td>   1.556</td>\n",
       "</tr>\n",
       "<tr>\n",
       "  <th>Prob(Omnibus):</th> <td> 0.047</td> <th>  Jarque-Bera (JB):  </th> <td>   4.043</td>\n",
       "</tr>\n",
       "<tr>\n",
       "  <th>Skew:</th>          <td> 0.851</td> <th>  Prob(JB):          </th> <td>   0.132</td>\n",
       "</tr>\n",
       "<tr>\n",
       "  <th>Kurtosis:</th>      <td> 3.992</td> <th>  Cond. No.          </th> <td>    80.3</td>\n",
       "</tr>\n",
       "</table><br/><br/>Notes:<br/>[1] Standard Errors assume that the covariance matrix of the errors is correctly specified."
      ],
      "text/plain": [
       "<class 'statsmodels.iolib.summary.Summary'>\n",
       "\"\"\"\n",
       "                            OLS Regression Results                            \n",
       "==============================================================================\n",
       "Dep. Variable:                 범죄발생건수   R-squared:                       0.137\n",
       "Model:                            OLS   Adj. R-squared:                  0.099\n",
       "Method:                 Least Squares   F-statistic:                     3.648\n",
       "Date:                Fri, 25 Feb 2022   Prob (F-statistic):             0.0687\n",
       "Time:                        13:50:50   Log-Likelihood:                -209.82\n",
       "No. Observations:                  25   AIC:                             423.6\n",
       "Df Residuals:                      23   BIC:                             426.1\n",
       "Df Model:                           1                                         \n",
       "Covariance Type:            nonrobust                                         \n",
       "==============================================================================\n",
       "                 coef    std err          t      P>|t|      [0.025      0.975]\n",
       "------------------------------------------------------------------------------\n",
       "intercept   1875.2307    984.677      1.904      0.069    -161.729    3912.190\n",
       "경찰관서 수       103.8509     54.373      1.910      0.069      -8.628     216.330\n",
       "==============================================================================\n",
       "Omnibus:                        6.096   Durbin-Watson:                   1.556\n",
       "Prob(Omnibus):                  0.047   Jarque-Bera (JB):                4.043\n",
       "Skew:                           0.851   Prob(JB):                        0.132\n",
       "Kurtosis:                       3.992   Cond. No.                         80.3\n",
       "==============================================================================\n",
       "\n",
       "Notes:\n",
       "[1] Standard Errors assume that the covariance matrix of the errors is correctly specified.\n",
       "\"\"\""
      ]
     },
     "execution_count": 138,
     "metadata": {},
     "output_type": "execute_result"
    }
   ],
   "source": [
    "# ols('범죄발생건수 ~ 경찰관서 수', data=data).fit().summary()\n",
    "# Formula = '종속변수 ~ 독립변수' \n",
    "\n",
    "data['intercept'] = 1\n",
    "\n",
    "lm = sm.OLS(data['범죄발생건수'], data[['intercept', '경찰관서 수']])\n",
    "results = lm.fit()\n",
    "results.summary()"
   ]
  },
  {
   "cell_type": "code",
   "execution_count": 141,
   "id": "a30217ca",
   "metadata": {},
   "outputs": [
    {
     "data": {
      "text/html": [
       "<table class=\"simpletable\">\n",
       "<caption>OLS Regression Results</caption>\n",
       "<tr>\n",
       "  <th>Dep. Variable:</th>         <td>범죄발생건수</td>      <th>  R-squared:         </th> <td>   0.855</td>\n",
       "</tr>\n",
       "<tr>\n",
       "  <th>Model:</th>                   <td>OLS</td>       <th>  Adj. R-squared:    </th> <td>   0.767</td>\n",
       "</tr>\n",
       "<tr>\n",
       "  <th>Method:</th>             <td>Least Squares</td>  <th>  F-statistic:       </th> <td>   9.802</td>\n",
       "</tr>\n",
       "<tr>\n",
       "  <th>Date:</th>             <td>Fri, 25 Feb 2022</td> <th>  Prob (F-statistic):</th> <td>7.90e-05</td>\n",
       "</tr>\n",
       "<tr>\n",
       "  <th>Time:</th>                 <td>13:52:05</td>     <th>  Log-Likelihood:    </th> <td> -187.55</td>\n",
       "</tr>\n",
       "<tr>\n",
       "  <th>No. Observations:</th>      <td>    25</td>      <th>  AIC:               </th> <td>   395.1</td>\n",
       "</tr>\n",
       "<tr>\n",
       "  <th>Df Residuals:</th>          <td>    15</td>      <th>  BIC:               </th> <td>   407.3</td>\n",
       "</tr>\n",
       "<tr>\n",
       "  <th>Df Model:</th>              <td>     9</td>      <th>                     </th>     <td> </td>   \n",
       "</tr>\n",
       "<tr>\n",
       "  <th>Covariance Type:</th>      <td>nonrobust</td>    <th>                     </th>     <td> </td>   \n",
       "</tr>\n",
       "</table>\n",
       "<table class=\"simpletable\">\n",
       "<tr>\n",
       "           <td></td>              <th>coef</th>     <th>std err</th>      <th>t</th>      <th>P>|t|</th>  <th>[0.025</th>    <th>0.975]</th>  \n",
       "</tr>\n",
       "<tr>\n",
       "  <th>intercept</th>           <td>-9543.5648</td> <td> 7332.957</td> <td>   -1.301</td> <td> 0.213</td> <td>-2.52e+04</td> <td> 6086.264</td>\n",
       "</tr>\n",
       "<tr>\n",
       "  <th>경찰관서 수</th>              <td>   -1.3788</td> <td>   47.061</td> <td>   -0.029</td> <td> 0.977</td> <td> -101.686</td> <td>   98.928</td>\n",
       "</tr>\n",
       "<tr>\n",
       "  <th>소방관서 수</th>              <td>   27.0311</td> <td>  143.754</td> <td>    0.188</td> <td> 0.853</td> <td> -279.373</td> <td>  333.435</td>\n",
       "</tr>\n",
       "<tr>\n",
       "  <th>편의점 수</th>               <td>    6.4254</td> <td>    4.647</td> <td>    1.383</td> <td> 0.187</td> <td>   -3.479</td> <td>   16.330</td>\n",
       "</tr>\n",
       "<tr>\n",
       "  <th>공원 수</th>                <td>   -1.4490</td> <td>    7.268</td> <td>   -0.199</td> <td> 0.845</td> <td>  -16.941</td> <td>   14.043</td>\n",
       "</tr>\n",
       "<tr>\n",
       "  <th>버스정류장 수</th>             <td>   -1.3152</td> <td>    1.969</td> <td>   -0.668</td> <td> 0.514</td> <td>   -5.513</td> <td>    2.882</td>\n",
       "</tr>\n",
       "<tr>\n",
       "  <th>가로등 수</th>               <td>    0.0046</td> <td>    0.121</td> <td>    0.038</td> <td> 0.970</td> <td>   -0.253</td> <td>    0.262</td>\n",
       "</tr>\n",
       "<tr>\n",
       "  <th>ATM 수</th>               <td>    2.0743</td> <td>    5.105</td> <td>    0.406</td> <td> 0.690</td> <td>   -8.807</td> <td>   12.956</td>\n",
       "</tr>\n",
       "<tr>\n",
       "  <th>반려동물 가구 비율(%, 인구 수)</th> <td>   22.5963</td> <td>  109.976</td> <td>    0.205</td> <td> 0.840</td> <td> -211.811</td> <td>  257.004</td>\n",
       "</tr>\n",
       "<tr>\n",
       "  <th>행복지수 종합</th>             <td> 1565.5771</td> <td> 1271.081</td> <td>    1.232</td> <td> 0.237</td> <td>-1143.667</td> <td> 4274.821</td>\n",
       "</tr>\n",
       "</table>\n",
       "<table class=\"simpletable\">\n",
       "<tr>\n",
       "  <th>Omnibus:</th>       <td> 3.848</td> <th>  Durbin-Watson:     </th> <td>   1.727</td>\n",
       "</tr>\n",
       "<tr>\n",
       "  <th>Prob(Omnibus):</th> <td> 0.146</td> <th>  Jarque-Bera (JB):  </th> <td>   2.179</td>\n",
       "</tr>\n",
       "<tr>\n",
       "  <th>Skew:</th>          <td> 0.643</td> <th>  Prob(JB):          </th> <td>   0.336</td>\n",
       "</tr>\n",
       "<tr>\n",
       "  <th>Kurtosis:</th>      <td> 3.662</td> <th>  Cond. No.          </th> <td>5.51e+05</td>\n",
       "</tr>\n",
       "</table><br/><br/>Notes:<br/>[1] Standard Errors assume that the covariance matrix of the errors is correctly specified.<br/>[2] The condition number is large, 5.51e+05. This might indicate that there are<br/>strong multicollinearity or other numerical problems."
      ],
      "text/plain": [
       "<class 'statsmodels.iolib.summary.Summary'>\n",
       "\"\"\"\n",
       "                            OLS Regression Results                            \n",
       "==============================================================================\n",
       "Dep. Variable:                 범죄발생건수   R-squared:                       0.855\n",
       "Model:                            OLS   Adj. R-squared:                  0.767\n",
       "Method:                 Least Squares   F-statistic:                     9.802\n",
       "Date:                Fri, 25 Feb 2022   Prob (F-statistic):           7.90e-05\n",
       "Time:                        13:52:05   Log-Likelihood:                -187.55\n",
       "No. Observations:                  25   AIC:                             395.1\n",
       "Df Residuals:                      15   BIC:                             407.3\n",
       "Df Model:                           9                                         \n",
       "Covariance Type:            nonrobust                                         \n",
       "=======================================================================================\n",
       "                          coef    std err          t      P>|t|      [0.025      0.975]\n",
       "---------------------------------------------------------------------------------------\n",
       "intercept           -9543.5648   7332.957     -1.301      0.213   -2.52e+04    6086.264\n",
       "경찰관서 수                 -1.3788     47.061     -0.029      0.977    -101.686      98.928\n",
       "소방관서 수                 27.0311    143.754      0.188      0.853    -279.373     333.435\n",
       "편의점 수                   6.4254      4.647      1.383      0.187      -3.479      16.330\n",
       "공원 수                   -1.4490      7.268     -0.199      0.845     -16.941      14.043\n",
       "버스정류장 수                -1.3152      1.969     -0.668      0.514      -5.513       2.882\n",
       "가로등 수                   0.0046      0.121      0.038      0.970      -0.253       0.262\n",
       "ATM 수                   2.0743      5.105      0.406      0.690      -8.807      12.956\n",
       "반려동물 가구 비율(%, 인구 수)    22.5963    109.976      0.205      0.840    -211.811     257.004\n",
       "행복지수 종합              1565.5771   1271.081      1.232      0.237   -1143.667    4274.821\n",
       "==============================================================================\n",
       "Omnibus:                        3.848   Durbin-Watson:                   1.727\n",
       "Prob(Omnibus):                  0.146   Jarque-Bera (JB):                2.179\n",
       "Skew:                           0.643   Prob(JB):                        0.336\n",
       "Kurtosis:                       3.662   Cond. No.                     5.51e+05\n",
       "==============================================================================\n",
       "\n",
       "Notes:\n",
       "[1] Standard Errors assume that the covariance matrix of the errors is correctly specified.\n",
       "[2] The condition number is large, 5.51e+05. This might indicate that there are\n",
       "strong multicollinearity or other numerical problems.\n",
       "\"\"\""
      ]
     },
     "execution_count": 141,
     "metadata": {},
     "output_type": "execute_result"
    }
   ],
   "source": [
    "mlr = sm.OLS(data['범죄발생건수'], data[['intercept', '경찰관서 수', '소방관서 수', '편의점 수', '공원 수', '버스정류장 수', '가로등 수', 'ATM 수','반려동물 가구 비율(%, 인구 수)','행복지수 종합']])\n",
    "results_mlr = mlr.fit()\n",
    "results_mlr.summary()"
   ]
  },
  {
   "cell_type": "code",
   "execution_count": 165,
   "id": "69f6d8eb",
   "metadata": {},
   "outputs": [
    {
     "data": {
      "text/html": [
       "<div>\n",
       "<style scoped>\n",
       "    .dataframe tbody tr th:only-of-type {\n",
       "        vertical-align: middle;\n",
       "    }\n",
       "\n",
       "    .dataframe tbody tr th {\n",
       "        vertical-align: top;\n",
       "    }\n",
       "\n",
       "    .dataframe thead th {\n",
       "        text-align: right;\n",
       "    }\n",
       "</style>\n",
       "<table border=\"1\" class=\"dataframe\">\n",
       "  <thead>\n",
       "    <tr style=\"text-align: right;\">\n",
       "      <th></th>\n",
       "      <th>0</th>\n",
       "    </tr>\n",
       "  </thead>\n",
       "  <tbody>\n",
       "    <tr>\n",
       "      <th>0</th>\n",
       "      <td>7552.909124</td>\n",
       "    </tr>\n",
       "    <tr>\n",
       "      <th>1</th>\n",
       "      <td>3566.051210</td>\n",
       "    </tr>\n",
       "    <tr>\n",
       "      <th>2</th>\n",
       "      <td>2912.500819</td>\n",
       "    </tr>\n",
       "    <tr>\n",
       "      <th>3</th>\n",
       "      <td>4412.716834</td>\n",
       "    </tr>\n",
       "    <tr>\n",
       "      <th>4</th>\n",
       "      <td>4044.404252</td>\n",
       "    </tr>\n",
       "    <tr>\n",
       "      <th>5</th>\n",
       "      <td>3371.730101</td>\n",
       "    </tr>\n",
       "    <tr>\n",
       "      <th>6</th>\n",
       "      <td>3428.674310</td>\n",
       "    </tr>\n",
       "    <tr>\n",
       "      <th>7</th>\n",
       "      <td>2741.945948</td>\n",
       "    </tr>\n",
       "    <tr>\n",
       "      <th>8</th>\n",
       "      <td>3562.936183</td>\n",
       "    </tr>\n",
       "    <tr>\n",
       "      <th>9</th>\n",
       "      <td>2598.219763</td>\n",
       "    </tr>\n",
       "    <tr>\n",
       "      <th>10</th>\n",
       "      <td>3626.394838</td>\n",
       "    </tr>\n",
       "    <tr>\n",
       "      <th>11</th>\n",
       "      <td>3069.760927</td>\n",
       "    </tr>\n",
       "    <tr>\n",
       "      <th>12</th>\n",
       "      <td>4464.626268</td>\n",
       "    </tr>\n",
       "    <tr>\n",
       "      <th>13</th>\n",
       "      <td>3012.451975</td>\n",
       "    </tr>\n",
       "    <tr>\n",
       "      <th>14</th>\n",
       "      <td>4373.852269</td>\n",
       "    </tr>\n",
       "    <tr>\n",
       "      <th>15</th>\n",
       "      <td>2745.483685</td>\n",
       "    </tr>\n",
       "    <tr>\n",
       "      <th>16</th>\n",
       "      <td>3254.525471</td>\n",
       "    </tr>\n",
       "    <tr>\n",
       "      <th>17</th>\n",
       "      <td>5520.292180</td>\n",
       "    </tr>\n",
       "    <tr>\n",
       "      <th>18</th>\n",
       "      <td>3323.155725</td>\n",
       "    </tr>\n",
       "    <tr>\n",
       "      <th>19</th>\n",
       "      <td>4885.951697</td>\n",
       "    </tr>\n",
       "    <tr>\n",
       "      <th>20</th>\n",
       "      <td>2590.794150</td>\n",
       "    </tr>\n",
       "    <tr>\n",
       "      <th>21</th>\n",
       "      <td>3441.103587</td>\n",
       "    </tr>\n",
       "    <tr>\n",
       "      <th>22</th>\n",
       "      <td>3126.071296</td>\n",
       "    </tr>\n",
       "    <tr>\n",
       "      <th>23</th>\n",
       "      <td>3880.474185</td>\n",
       "    </tr>\n",
       "    <tr>\n",
       "      <th>24</th>\n",
       "      <td>3171.973204</td>\n",
       "    </tr>\n",
       "  </tbody>\n",
       "</table>\n",
       "</div>"
      ],
      "text/plain": [
       "              0\n",
       "0   7552.909124\n",
       "1   3566.051210\n",
       "2   2912.500819\n",
       "3   4412.716834\n",
       "4   4044.404252\n",
       "5   3371.730101\n",
       "6   3428.674310\n",
       "7   2741.945948\n",
       "8   3562.936183\n",
       "9   2598.219763\n",
       "10  3626.394838\n",
       "11  3069.760927\n",
       "12  4464.626268\n",
       "13  3012.451975\n",
       "14  4373.852269\n",
       "15  2745.483685\n",
       "16  3254.525471\n",
       "17  5520.292180\n",
       "18  3323.155725\n",
       "19  4885.951697\n",
       "20  2590.794150\n",
       "21  3441.103587\n",
       "22  3126.071296\n",
       "23  3880.474185\n",
       "24  3171.973204"
      ]
     },
     "execution_count": 165,
     "metadata": {},
     "output_type": "execute_result"
    }
   ],
   "source": [
    "crime_pred = results_mlr.predict()\n",
    "pd.DataFrame(crime_pred)"
   ]
  },
  {
   "cell_type": "code",
   "execution_count": null,
   "id": "734780ae",
   "metadata": {},
   "outputs": [],
   "source": []
  },
  {
   "cell_type": "code",
   "execution_count": 105,
   "id": "c8826e5c",
   "metadata": {},
   "outputs": [
    {
     "data": {
      "image/png": "[encoded data removed]",
      "text/plain": [
       "<Figure size 1080x720 with 1 Axes>"
      ]
     },
     "metadata": {
      "needs_background": "light"
     },
     "output_type": "display_data"
    }
   ],
   "source": [
    "plt.figure(figsize=(15,10))\n",
    "plt.scatter(data['범죄발생건수'],data['가로등 수'],s=50)\n",
    "plt.title('범죄발생건수 대비 가로등수')\n",
    "\n",
    "for n in range(25):\n",
    "    plt.text(data['범죄발생건수'][n], data['가로등 수'][n], data.index[n], fontsize=12)\n",
    "\n",
    "plt.xlabel('범죄발생건수')\n",
    "plt.ylabel('가로등 수')\n",
    "\n",
    "plt.grid()\n",
    "plt.show()"
   ]
  },
  {
   "cell_type": "code",
   "execution_count": 107,
   "id": "5d4dcde3",
   "metadata": {},
   "outputs": [
    {
     "data": {
      "image/png": "[encoded data removed]",
      "text/plain": [
       "<Figure size 1080x720 with 1 Axes>"
      ]
     },
     "metadata": {
      "needs_background": "light"
     },
     "output_type": "display_data"
    }
   ],
   "source": [
    "plt.figure(figsize=(15,10))\n",
    "plt.scatter(data['가로등 수'],data['범죄발생건수'],s=50)\n",
    "plt.title('가로등수 대비 범죄발생건수')\n",
    "\n",
    "for n in range(25):\n",
    "    plt.text(data['가로등 수'][n], data['범죄발생건수'][n], data.index[n], fontsize=12)\n",
    "\n",
    "plt.ylabel('범죄발생건수')\n",
    "plt.xlabel('가로등 수')\n",
    "\n",
    "plt.grid()\n",
    "plt.show()"
   ]
  },
  {
   "cell_type": "code",
   "execution_count": 119,
   "id": "ff968740",
   "metadata": {
    "scrolled": true
   },
   "outputs": [
    {
     "data": {
      "image/png": "[encoded data removed]",
      "text/plain": [
       "<Figure size 720x432 with 1 Axes>"
      ]
     },
     "metadata": {
      "needs_background": "light"
     },
     "output_type": "display_data"
    }
   ],
   "source": [
    "plt.figure(figsize=(10,6))\n",
    "plt.scatter(data['ATM 수'],data['범죄발생건수'],s=50)\n",
    "plt.title('범죄발생건수 대비 ATM 수')\n",
    "\n",
    "for n in range(25):\n",
    "    plt.text(data['ATM 수'][n], data['범죄발생건수'][n], data.index[n], fontsize=12)\n",
    "\n",
    "plt.xlabel('ATM 수')\n",
    "plt.ylabel('범죄발생건수')\n",
    "\n",
    "plt.grid()\n",
    "plt.show()"
   ]
  },
  {
   "cell_type": "code",
   "execution_count": 114,
   "id": "b784fde0",
   "metadata": {},
   "outputs": [
    {
     "data": {
      "image/png": "[encoded data removed]",
      "text/plain": [
       "<Figure size 720x432 with 1 Axes>"
      ]
     },
     "metadata": {
      "needs_background": "light"
     },
     "output_type": "display_data"
    }
   ],
   "source": [
    "plt.figure(figsize=(10,6))\n",
    "plt.scatter(data['인구 수(명)'],data['범죄발생건수'],s=50)\n",
    "plt.title('인구수 대비 범죄발생건수')\n",
    "\n",
    "for n in range(25):\n",
    "    plt.text(data['인구 수(명)'][n], data['범죄발생건수'][n], data.index[n], fontsize=12)\n",
    "\n",
    "plt.ylabel('범죄발생건수')\n",
    "plt.xlabel('인구 수(명)')\n",
    "\n",
    "plt.grid()\n",
    "plt.show()"
   ]
  },
  {
   "cell_type": "code",
   "execution_count": null,
   "id": "29ac993e",
   "metadata": {},
   "outputs": [],
   "source": []
  }
 ],
 "metadata": {
  "kernelspec": {
   "display_name": "Python 3 (ipykernel)",
   "language": "python",
   "name": "python3"
  },
  "language_info": {
   "codemirror_mode": {
    "name": "ipython",
    "version": 3
   },
   "file_extension": ".py",
   "mimetype": "text/x-python",
   "name": "python",
   "nbconvert_exporter": "python",
   "pygments_lexer": "ipython3",
   "version": "3.9.7"
  }
 },
 "nbformat": 4,
 "nbformat_minor": 5
}
