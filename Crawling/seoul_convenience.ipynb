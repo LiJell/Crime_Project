{
 "cells": [
  {
   "cell_type": "code",
   "execution_count": 1,
   "id": "bc1eb104",
   "metadata": {},
   "outputs": [],
   "source": [
    "import requests\n",
    "import pandas as pd\n",
    "import numpy as np\n",
    "import folium\n",
    "from folium.plugins import MiniMap\n",
    "import requests\n",
    "import folium"
   ]
  },
  {
   "cell_type": "code",
   "execution_count": 2,
   "id": "24171ff4",
   "metadata": {},
   "outputs": [],
   "source": [
    "##카카오 API\n",
    "def whole_region(keyword, start_x,start_y,end_x,end_y):\n",
    "    page_num = 1\n",
    "    # 데이터가 담길 리스트\n",
    "    all_data_list = []\n",
    "    \n",
    "    while(1):\n",
    "        url = 'https://dapi.kakao.com/v2/local/search/keyword.json'\n",
    "        params = {'query': keyword,'page': page_num, \n",
    "                 'rect': f'{start_x},{start_y},{end_x},{end_y}'}\n",
    "        headers = {\"Authorization\": \"KakaoAK @@@@\"}\n",
    "        ## 입력예시 -->> headers = {\"Authorization\": \"KakaoAK f64acbasdfasdfasf70e4f52f737760657\"}\n",
    "        resp = requests.get(url, params=params, headers=headers)\n",
    "\n",
    "        search_count = resp.json()['meta']['total_count']\n",
    "#         print('총 개수',search_count)\n",
    "        \n",
    "        if search_count > 45:\n",
    "#             print('좌표 4등분')\n",
    "            dividing_x = (start_x + end_x) / 2\n",
    "            dividing_y = (start_y + end_y) / 2\n",
    "            ## 4등분 중 왼쪽 아래\n",
    "            all_data_list.extend(whole_region(keyword, start_x,start_y,dividing_x,dividing_y))\n",
    "            ## 4등분 중 오른쪽 아래\n",
    "            all_data_list.extend(whole_region(keyword, dividing_x,start_y,end_x,dividing_y))\n",
    "            ## 4등분 중 왼쪽 위\n",
    "            all_data_list.extend(whole_region(keyword, start_x,dividing_y,dividing_x,end_y))\n",
    "            ## 4등분 중 오른쪽 위\n",
    "            all_data_list.extend(whole_region(keyword, dividing_x,dividing_y,end_x,end_y))\n",
    "            return all_data_list\n",
    "        \n",
    "        else:\n",
    "            if resp.json()['meta']['is_end']:\n",
    "                all_data_list.extend(resp.json()['documents'])\n",
    "                return all_data_list\n",
    "            # 아니면 다음 페이지로 넘어가서 데이터 저장\n",
    "            else:\n",
    "#                 print('다음페이지')\n",
    "                page_num += 1\n",
    "                all_data_list.extend(resp.json()['documents'])"
   ]
  },
  {
   "cell_type": "code",
   "execution_count": 3,
   "id": "5085dfea",
   "metadata": {},
   "outputs": [],
   "source": [
    "def overlapped_data(keyword, start_x, start_y, next_x, next_y, num_x, num_y):\n",
    "    # 최종 데이터가 담길 리스트\n",
    "    overlapped_result = []\n",
    "\n",
    "    # 지도를 사각형으로 나누면서 데이터 받아옴\n",
    "    for i in range(1,num_x+1):\n",
    "        end_x = start_x + next_x\n",
    "        initial_start_y = start_y\n",
    "        for j in range(1,num_y+1):\n",
    "            end_y = initial_start_y + next_y\n",
    "            each_result= whole_region(keyword, start_x,initial_start_y,end_x,end_y)\n",
    "            overlapped_result.extend(each_result)\n",
    "            initial_start_y = end_y\n",
    "        start_x = end_x\n",
    "    \n",
    "    return overlapped_result"
   ]
  },
  {
   "cell_type": "code",
   "execution_count": 4,
   "id": "111de52d",
   "metadata": {},
   "outputs": [],
   "source": [
    "def make_map(dfs):\n",
    "    # 지도 생성하기\n",
    "    m = folium.Map(location=[37.5435,126.9876],\n",
    "                   zoom_start=12)\n",
    "\n",
    "    # 미니맵 추가\n",
    "    minimap = MiniMap() \n",
    "    m.add_child(minimap)\n",
    "\n",
    "    # 마커\n",
    "    for i in range(len(dfs)):\n",
    "        folium.Marker([df['Y'][i],df['X'][i]],\n",
    "                  tooltip=dfs['stores'][i],\n",
    "                  popup=dfs['place_url'][i],\n",
    "                  ).add_to(m)\n",
    "    return m"
   ]
  },
  {
   "cell_type": "code",
   "execution_count": 17,
   "id": "4af1abc2",
   "metadata": {},
   "outputs": [],
   "source": [
    "# 37.424758, 126.771232 왼쪽 아래\n",
    "# 37.705604, 127.184593 오른쪽 위\n",
    "# 시작 x 좌표 및 증가값\n",
    "keyword = '편의점'\n",
    "start_x = 126.77\n",
    "start_y = 37.42\n",
    "next_x = 0.01\n",
    "next_y = 0.01\n",
    "num_x = 50\n",
    "num_y = 30"
   ]
  },
  {
   "cell_type": "code",
   "execution_count": 18,
   "id": "e2dc7155",
   "metadata": {},
   "outputs": [
    {
     "data": {
      "application/vnd.jupyter.widget-view+json": {
       "model_id": "0a4098522c814d40ac967df1c237ebc2",
       "version_major": 2,
       "version_minor": 0
      },
      "text/plain": [
       "  0%|          | 0/12143 [00:00<?, ?it/s]"
      ]
     },
     "metadata": {},
     "output_type": "display_data"
    },
    {
     "name": "stdout",
     "output_type": "stream",
     "text": [
      "total_reuslt_number =  12143\n"
     ]
    }
   ],
   "source": [
    "from tqdm.notebook import tqdm\n",
    "from collections import OrderedDict\n",
    "\n",
    "overlapped_result = overlapped_data(keyword, start_x, start_y, next_x, next_y, num_x, num_y)\n",
    "\n",
    "# 최종 데이터가 담긴 리스트 중복값 제거\n",
    "results = list(map(dict, dict.fromkeys(tuple(sorted(d.items())) for d in overlapped_result)))\n",
    "# results = list(set(overlapped_result))\n",
    "X = []\n",
    "Y = []\n",
    "stores = []\n",
    "road_address = []\n",
    "place_url = []\n",
    "ID = []\n",
    "for place in tqdm(results):\n",
    "    \n",
    "    X.append(float(place['x']))\n",
    "    Y.append(float(place['y']))\n",
    "    stores.append(place['place_name'])\n",
    "    road_address.append(place['road_address_name'])\n",
    "    place_url.append(place['place_url'])\n",
    "    ID.append(place['id'])\n",
    "\n",
    "    ar = np.array([ID,stores, X, Y, road_address,place_url]).T\n",
    "    df = pd.DataFrame(ar, columns = ['ID','stores', 'X', 'Y','road_address','place_url'])\n",
    "    \n",
    "print('total_reuslt_number = ',len(df))"
   ]
  },
  {
   "cell_type": "code",
   "execution_count": 19,
   "id": "5bdfce6d",
   "metadata": {},
   "outputs": [],
   "source": [
    "# 37.424758, 126.771232 왼쪽 아래\n",
    "# 37.705604, 127.184593 오른쪽 위\n",
    "df.to_excel('./class/seoul_convenience.xlsx', index = False)"
   ]
  },
  {
   "cell_type": "code",
   "execution_count": null,
   "id": "05ef5d59",
   "metadata": {},
   "outputs": [],
   "source": []
  }
 ],
 "metadata": {
  "kernelspec": {
   "display_name": "Python 3 (ipykernel)",
   "language": "python",
   "name": "python3"
  },
  "language_info": {
   "codemirror_mode": {
    "name": "ipython",
    "version": 3
   },
   "file_extension": ".py",
   "mimetype": "text/x-python",
   "name": "python",
   "nbconvert_exporter": "python",
   "pygments_lexer": "ipython3",
   "version": "3.9.7"
  }
 },
 "nbformat": 4,
 "nbformat_minor": 5
}
